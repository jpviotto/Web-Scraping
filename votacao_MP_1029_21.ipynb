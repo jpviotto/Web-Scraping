{
 "cells": [
  {
   "cell_type": "markdown",
   "id": "6db57512-915b-49d9-b2ca-3b3456efc223",
   "metadata": {},
   "source": [
    "# Medida Provisória n° 1029, de 2021"
   ]
  },
  {
   "cell_type": "code",
   "execution_count": null,
   "id": "f5cdccb5-5356-4798-918f-039b15b034e2",
   "metadata": {
    "tags": []
   },
   "outputs": [],
   "source": [
    "import requests\n",
    "from bs4 import BeautifulSoup\n",
    "import pandas as pd\n",
    "import plotly.express as px"
   ]
  },
  {
   "cell_type": "code",
   "execution_count": null,
   "id": "ff39f513-0a69-4b90-971f-18e00a6396f4",
   "metadata": {
    "tags": []
   },
   "outputs": [],
   "source": [
    "url = 'https://www.camara.leg.br/presenca-comissoes/votacao-portal?reuniao=61702'\n",
    "response = requests.get('https://www.camara.leg.br/presenca-comissoes/votacao-portal?reuniao=61702')\n",
    "site = BeautifulSoup(response.text, 'html.parser')"
   ]
  },
  {
   "cell_type": "code",
   "execution_count": null,
   "id": "5e45180c-5f58-48c9-ab5e-4b7ec119f495",
   "metadata": {},
   "outputs": [],
   "source": [
    "votacao = site.find('div', attrs={'class':'titulares'})"
   ]
  },
  {
   "cell_type": "code",
   "execution_count": null,
   "id": "c05b5464-de3b-4503-98e1-0c9cfa07d1fe",
   "metadata": {},
   "outputs": [],
   "source": [
    "nome_deputado = []\n",
    "partido_estado = []\n",
    "voto = []\n",
    "\n",
    "for li in votacao.find_all('li'):\n",
    "    nome_deputado.append(li.find('span', attrs={'class':'nome'}).text)\n",
    "    partido_estado.append(li.find('span', attrs={'class':'nomePartido'}).text)    \n",
    "    if (li.find('span', attrs={'class':'voto sim'})):\n",
    "        voto.append((li.find('span', attrs={'class':'sim'})).text)\n",
    "    elif (li.find('span', attrs={'class':'voto nao'})):\n",
    "        voto.append((li.find('span', attrs={'class':'nao'})).text)\n",
    "    else:\n",
    "        voto.append('Não votou')"
   ]
  },
  {
   "cell_type": "code",
   "execution_count": null,
   "id": "cda4e3b6-af07-4949-abcc-1e83effa3706",
   "metadata": {},
   "outputs": [],
   "source": [
    "partido = []\n",
    "estado = []\n",
    "\n",
    "for i in partido_estado:\n",
    "    caract = int(i.rfind('-'))\n",
    "    partido.append(i[1:caract])\n",
    "    estado.append(i[caract+1:-1])"
   ]
  },
  {
   "cell_type": "code",
   "execution_count": null,
   "id": "b49b88c0-9076-4461-8519-e7804a72a3e6",
   "metadata": {},
   "outputs": [],
   "source": [
    "votacaoMP = pd.DataFrame()"
   ]
  },
  {
   "cell_type": "code",
   "execution_count": null,
   "id": "9b8d6564-120c-4ac0-99a7-c84b70d48fb6",
   "metadata": {},
   "outputs": [],
   "source": [
    "votacaoMP['Deputado'] = nome_deputado\n",
    "votacaoMP['Partido'] = partido\n",
    "votacaoMP['Estado'] = estado\n",
    "votacaoMP['Voto'] = voto\n",
    "votacaoMP.head()"
   ]
  },
  {
   "cell_type": "code",
   "execution_count": null,
   "id": "e0e104dc-5adc-4030-9b05-360aad7a6a04",
   "metadata": {},
   "outputs": [],
   "source": [
    "tipo_de_voto = votacaoMP['Voto'].value_counts()\n",
    "tipo_de_voto.values"
   ]
  },
  {
   "cell_type": "code",
   "execution_count": null,
   "id": "f7f6b191-b936-45c9-9ffe-a5371bb6bbe7",
   "metadata": {},
   "outputs": [],
   "source": [
    "grafico_votacao1 = px.pie(tipo_de_voto, names=tipo_de_voto.index, values=tipo_de_voto.values, width= 500, height=500, title='Votação MP 1029/2021')\n",
    "grafico_votacao1.show()"
   ]
  },
  {
   "cell_type": "code",
   "execution_count": null,
   "id": "e14570b1-e985-45e9-baa4-55b4af55ceb0",
   "metadata": {},
   "outputs": [],
   "source": [
    "import plotly.graph_objects as go"
   ]
  },
  {
   "cell_type": "code",
   "execution_count": null,
   "id": "99927901-ef12-4b56-9054-be72e4e0aabe",
   "metadata": {},
   "outputs": [],
   "source": [
    "#destaque de uma fatia\n",
    "\n",
    "grafico_votacao2 = go.Figure(data=[go.Pie(labels=tipo_de_voto.index, values=tipo_de_voto.values, pull=[0.1, 0, 0])])\n",
    "grafico_votacao2.update_layout(title='Votação MP 1029/2021', autosize=False, width=500, height=500)\n",
    "grafico_votacao2.show()"
   ]
  },
  {
   "cell_type": "code",
   "execution_count": null,
   "id": "4e026f96-3c0f-4256-8266-1769b4740f07",
   "metadata": {},
   "outputs": [],
   "source": [
    "# votacaoMP.groupby(['Partido', 'Voto']).count()"
   ]
  }
 ],
 "metadata": {
  "kernelspec": {
   "display_name": "Python 3",
   "language": "python",
   "name": "python3"
  },
  "language_info": {
   "codemirror_mode": {
    "name": "ipython",
    "version": 3
   },
   "file_extension": ".py",
   "mimetype": "text/x-python",
   "name": "python",
   "nbconvert_exporter": "python",
   "pygments_lexer": "ipython3",
   "version": "3.9.0"
  }
 },
 "nbformat": 4,
 "nbformat_minor": 5
}

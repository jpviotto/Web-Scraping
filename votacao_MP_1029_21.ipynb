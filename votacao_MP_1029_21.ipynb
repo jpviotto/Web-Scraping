{
 "cells": [
  {
   "cell_type": "markdown",
   "id": "6db57512-915b-49d9-b2ca-3b3456efc223",
   "metadata": {},
   "source": [
    "# Medida Provisória n° 1029, de 2021"
   ]
  },
  {
   "cell_type": "code",
   "execution_count": 1,
   "id": "f5cdccb5-5356-4798-918f-039b15b034e2",
   "metadata": {
    "tags": []
   },
   "outputs": [],
   "source": [
    "import requests\n",
    "from bs4 import BeautifulSoup\n",
    "import pandas as pd"
   ]
  },
  {
   "cell_type": "code",
   "execution_count": 2,
   "id": "ff39f513-0a69-4b90-971f-18e00a6396f4",
   "metadata": {
    "tags": []
   },
   "outputs": [],
   "source": [
    "url = 'https://www.camara.leg.br/presenca-comissoes/votacao-portal?reuniao=61702'\n",
    "response = requests.get('https://www.camara.leg.br/presenca-comissoes/votacao-portal?reuniao=61702')\n",
    "site = BeautifulSoup(response.text, 'html.parser')"
   ]
  },
  {
   "cell_type": "code",
   "execution_count": 3,
   "id": "5e45180c-5f58-48c9-ab5e-4b7ec119f495",
   "metadata": {},
   "outputs": [],
   "source": [
    "votacao = site.find('div', attrs={'class':'titulares'})"
   ]
  },
  {
   "cell_type": "code",
   "execution_count": 4,
   "id": "c05b5464-de3b-4503-98e1-0c9cfa07d1fe",
   "metadata": {},
   "outputs": [],
   "source": [
    "nome_deputado = []\n",
    "partido = []\n",
    "voto = []\n",
    "\n",
    "for li in votacao.find_all('li'):\n",
    "    nome_deputado.append(li.find('span', attrs={'class':'nome'}).text)\n",
    "    partido.append(li.find('span', attrs={'class':'nomePartido'}).text)    \n",
    "    if (li.find('span', attrs={'class':'voto sim'})):\n",
    "        voto.append((li.find('span', attrs={'class':'sim'})).text)\n",
    "    elif (li.find('span', attrs={'class':'voto nao'})):\n",
    "        voto.append((li.find('span', attrs={'class':'nao'})).text)\n",
    "    else:\n",
    "        voto.append('-')"
   ]
  },
  {
   "cell_type": "code",
   "execution_count": 5,
   "id": "b49b88c0-9076-4461-8519-e7804a72a3e6",
   "metadata": {},
   "outputs": [],
   "source": [
    "camaraFederal = pd.DataFrame()"
   ]
  },
  {
   "cell_type": "code",
   "execution_count": 6,
   "id": "9b8d6564-120c-4ac0-99a7-c84b70d48fb6",
   "metadata": {},
   "outputs": [
    {
     "data": {
      "text/html": [
       "<div>\n",
       "<style scoped>\n",
       "    .dataframe tbody tr th:only-of-type {\n",
       "        vertical-align: middle;\n",
       "    }\n",
       "\n",
       "    .dataframe tbody tr th {\n",
       "        vertical-align: top;\n",
       "    }\n",
       "\n",
       "    .dataframe thead th {\n",
       "        text-align: right;\n",
       "    }\n",
       "</style>\n",
       "<table border=\"1\" class=\"dataframe\">\n",
       "  <thead>\n",
       "    <tr style=\"text-align: right;\">\n",
       "      <th></th>\n",
       "      <th>Deputado</th>\n",
       "      <th>Partido</th>\n",
       "      <th>Voto</th>\n",
       "    </tr>\n",
       "  </thead>\n",
       "  <tbody>\n",
       "    <tr>\n",
       "      <th>0</th>\n",
       "      <td>AJ Albuquerque</td>\n",
       "      <td>(PP-CE)</td>\n",
       "      <td>Sim</td>\n",
       "    </tr>\n",
       "    <tr>\n",
       "      <th>1</th>\n",
       "      <td>Abílio Santana</td>\n",
       "      <td>(PL-BA)</td>\n",
       "      <td>Sim</td>\n",
       "    </tr>\n",
       "    <tr>\n",
       "      <th>2</th>\n",
       "      <td>Abou Anni</td>\n",
       "      <td>(PSL-SP)</td>\n",
       "      <td>Sim</td>\n",
       "    </tr>\n",
       "    <tr>\n",
       "      <th>3</th>\n",
       "      <td>Acácio Favacho</td>\n",
       "      <td>(PROS-AP)</td>\n",
       "      <td>Sim</td>\n",
       "    </tr>\n",
       "    <tr>\n",
       "      <th>4</th>\n",
       "      <td>Adolfo Viana</td>\n",
       "      <td>(PSDB-BA)</td>\n",
       "      <td>Sim</td>\n",
       "    </tr>\n",
       "  </tbody>\n",
       "</table>\n",
       "</div>"
      ],
      "text/plain": [
       "         Deputado    Partido Voto\n",
       "0  AJ Albuquerque    (PP-CE)  Sim\n",
       "1  Abílio Santana    (PL-BA)  Sim\n",
       "2       Abou Anni   (PSL-SP)  Sim\n",
       "3  Acácio Favacho  (PROS-AP)  Sim\n",
       "4    Adolfo Viana  (PSDB-BA)  Sim"
      ]
     },
     "execution_count": 6,
     "metadata": {},
     "output_type": "execute_result"
    }
   ],
   "source": [
    "camaraFederal['Deputado'] = nome_deputado\n",
    "camaraFederal['Partido'] = partido\n",
    "camaraFederal['Voto'] = voto\n",
    "camaraFederal.head()"
   ]
  },
  {
   "cell_type": "code",
   "execution_count": 10,
   "id": "e0e104dc-5adc-4030-9b05-360aad7a6a04",
   "metadata": {},
   "outputs": [
    {
     "data": {
      "text/plain": [
       "Sim    351\n",
       "-       89\n",
       "Não     73\n",
       "Name: Voto, dtype: int64"
      ]
     },
     "execution_count": 10,
     "metadata": {},
     "output_type": "execute_result"
    }
   ],
   "source": [
    "camaraFederal['Voto'].value_counts()"
   ]
  },
  {
   "cell_type": "code",
   "execution_count": null,
   "id": "7d13e455-8f9e-4f46-87c3-b442dd23dc7e",
   "metadata": {},
   "outputs": [],
   "source": []
  }
 ],
 "metadata": {
  "kernelspec": {
   "display_name": "Python 3",
   "language": "python",
   "name": "python3"
  },
  "language_info": {
   "codemirror_mode": {
    "name": "ipython",
    "version": 3
   },
   "file_extension": ".py",
   "mimetype": "text/x-python",
   "name": "python",
   "nbconvert_exporter": "python",
   "pygments_lexer": "ipython3",
   "version": "3.9.0"
  }
 },
 "nbformat": 4,
 "nbformat_minor": 5
}
